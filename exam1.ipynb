{
  "nbformat": 4,
  "nbformat_minor": 0,
  "metadata": {
    "colab": {
      "provenance": []
    },
    "kernelspec": {
      "name": "python3",
      "display_name": "Python 3"
    },
    "language_info": {
      "name": "python"
    }
  },
  "cells": [
    {
      "cell_type": "markdown",
      "source": [
        "#### Exercise 2: Data Science Peer-Graded Assignment"
      ],
      "metadata": {
        "id": "4s9vzMAgloe4"
      }
    },
    {
      "cell_type": "markdown",
      "source": [
        "#### Exercise 3:\n",
        "* This is the introduction"
      ],
      "metadata": {
        "id": "SGTyEHaKllCe"
      }
    },
    {
      "cell_type": "markdown",
      "source": [
        "#### Exercise 4: Data Science Languages\n",
        "* Python\n",
        "* R\n",
        "* SQL\n",
        "* Julia\n",
        "* Java"
      ],
      "metadata": {
        "id": "7bBEUHFflh7x"
      }
    },
    {
      "cell_type": "markdown",
      "source": [
        "#### Exercise 5: Data Science Libraries\n",
        "* NumPy\n",
        "* Pandas\n",
        "* Matplotlib\n",
        "* Scikit-learn\n",
        "* TensorFlow"
      ],
      "metadata": {
        "id": "qfumI6W5lfb7"
      }
    },
    {
      "cell_type": "markdown",
      "source": [
        "#### Exercise 6: Data Science Tools\n",
        "| Tools |\n",
        "| -------------|\n",
        "| Jupyter Notebook |\n",
        "| RStudio |\n",
        "| Apache Zeppelin |"
      ],
      "metadata": {
        "id": "8sbJNi47ldF8"
      }
    },
    {
      "cell_type": "markdown",
      "source": [
        "#### Arithmetic Expressions"
      ],
      "metadata": {
        "id": "Qz5kN2SalbVK"
      }
    },
    {
      "cell_type": "markdown",
      "source": [
        "#### Exercise 7: This is the introduction for arithmetic expression examples:\n",
        "#### Exercise 8:"
      ],
      "metadata": {
        "id": "KgK89xFnlZiK"
      }
    },
    {
      "cell_type": "code",
      "source": [
        "results=(2*3)+1\n",
        "print(results)"
      ],
      "metadata": {
        "id": "3hxYH6NakyJ7"
      },
      "execution_count": null,
      "outputs": []
    },
    {
      "cell_type": "markdown",
      "source": [
        "#### Exercise 9: Covert Minutes into Hours"
      ],
      "metadata": {
        "id": "pSjyvlWrlPsj"
      }
    },
    {
      "cell_type": "code",
      "source": [
        "hours=360/60\n",
        "print=(hours)"
      ],
      "metadata": {
        "id": "bFrYb8CKk6Em"
      },
      "execution_count": 4,
      "outputs": []
    },
    {
      "cell_type": "markdown",
      "source": [
        "#### Exercise 10: Objectives\n",
        "* To\n",
        "* Pass\n",
        "* This\n",
        "* Course"
      ],
      "metadata": {
        "id": "N13gVu1SlF9T"
      }
    },
    {
      "cell_type": "markdown",
      "source": [
        "#### Exercise 11: Author\n",
        "#### Kon Lee"
      ],
      "metadata": {
        "id": "iKww-rISlJy8"
      }
    }
  ]
}